# 24.02.03 연습

print('yes')
